{
 "cells": [
  {
   "cell_type": "markdown",
   "metadata": {},
   "source": [
    "### Is the performance of fantasy teams in our league better than random at a statistically significant level?"
   ]
  },
  {
   "cell_type": "markdown",
   "metadata": {},
   "source": [
    "Hank and I have been managing a team for 4 years so we want to assess whether we are skilled or lucky. We will define skilled as the sum of our ranks having less than a 5% chance of occuring when sampling randomly from a uniform distribution. "
   ]
  },
  {
   "cell_type": "markdown",
   "metadata": {},
   "source": [
    "Formally, we define this as:\n",
    "\n",
    "$T = \\sum_{i=1}^n x_i$ where $X \\sim\\ \\lceil$Unif$(0, 12)\\rceil$ and $n$ is the number of years the team has been in the league\n",
    "\n",
    "$H_0: (T >= \\tau)$ vs $(H_1: T < \\tau)$ where $P(T< \\tau) = 0.05$ or $F^{-1}(0.05) = \\tau$ where $F$ is the CDF for $T$"
   ]
  },
  {
   "cell_type": "code",
   "execution_count": 11,
   "metadata": {},
   "outputs": [
    {
     "data": {
      "text/plain": [
       "19"
      ]
     },
     "execution_count": 11,
     "metadata": {},
     "output_type": "execute_result"
    }
   ],
   "source": [
    "import numpy as np\n",
    "\n",
    "from numpy import random as rand\n",
    "rand.seed(69)\n",
    "\n",
    "num_years = 4\n",
    "N = int(1e6)\n",
    "draws = np.ceil(rand.uniform(0, 12, size=(N,num_years)))\n",
    "ranks = draws.sum(axis=1)\n",
    "\n",
    "place = [2, 5, 4, 4]  # 2020 season hasn't finished yet but we're in final 4 so this is our worse outcome for place\n",
    "pts = [4, 8, 4, 3]\n",
    "mediocre = [6, 7, 6, 7]\n",
    "\n",
    "T_chance = sum(mediocre)\n",
    "T = sum(pts); T"
   ]
  },
  {
   "cell_type": "code",
   "execution_count": 12,
   "metadata": {},
   "outputs": [
    {
     "name": "stdout",
     "output_type": "stream",
     "text": [
      "The rejection region is where T <= 15.0 using a critical value of 0.05\n",
      "The p value of our pts T=19 statistic is 0.1629\n",
      "The p value of our rank T=15 statistic is 0.0572\n",
      "For calibration, the p value of our mediocre T=26 statistic is 0.4998\n"
     ]
    }
   ],
   "source": [
    "from scipy.stats import percentileofscore\n",
    "crit_val = 0.05\n",
    "print('The rejection region is where T <= {} using a critical value of {}'.format(np.percentile(ranks, crit_val*100), crit_val))\n",
    "print('The p value of our pts T={} statistic is {}'.format(T, np.round(percentileofscore(ranks, T)/100, 4)))\n",
    "print('The p value of our rank T={} statistic is {}'.format(sum(place), np.round(percentileofscore(ranks, sum(place))/100, 4)))\n",
    "print('For calibration, the p value of our mediocre T={} statistic is {}'.format(T_chance, np.round(percentileofscore(ranks, T_chance)/100, 4)))"
   ]
  },
  {
   "cell_type": "markdown",
   "metadata": {},
   "source": [
    "As a result, we fail to reject the null hypothesis concluding **our performance in points and place rank does not provide sufficient evidence that it is different from luck** based on our decision threshold $\\alpha = 0.05$. It should be noted if we finish higher than 4, we can reject on place. "
   ]
  },
  {
   "cell_type": "markdown",
   "metadata": {},
   "source": [
    "Next let's test the performance from the team that won the championship 3/4 and could win a 4th this year."
   ]
  },
  {
   "cell_type": "code",
   "execution_count": 13,
   "metadata": {},
   "outputs": [
    {
     "name": "stdout",
     "output_type": "stream",
     "text": [
      "The rejection region is where T <= 20.0 using a critical value of 0.05\n",
      "The p value for pts with a T=21 statistic is 0.07\n",
      "The p value for pts with a T=16 statistic is 0.0146\n"
     ]
    }
   ],
   "source": [
    "num_years = 5\n",
    "N = int(1e6)\n",
    "draws = np.ceil(rand.uniform(0, 12, size=(N,num_years)))\n",
    "ranks = draws.sum(axis=1)\n",
    "\n",
    "br_place = [1, 1, 1, 9, 4]  # 2020 season hasn't finished yet but they're in final 4 so this is their worse outcome for place\n",
    "br_pts = [2, 2, 4, 8, 5]\n",
    "\n",
    "T = sum(br_pts); T\n",
    "\n",
    "crit_val = 0.05\n",
    "print('The rejection region is where T <= {} using a critical value of {}'.format(np.percentile(ranks, crit_val*100), crit_val))\n",
    "print('The p value for pts with a T={} statistic is {}'.format(T, np.round(percentileofscore(ranks, T)/100, 4)))\n",
    "print('The p value for pts with a T={} statistic is {}'.format(sum(br_place), np.round(percentileofscore(ranks, sum(br_place))/100, 4)))"
   ]
  },
  {
   "cell_type": "markdown",
   "metadata": {},
   "source": [
    "We reject the null hypothesis, concluding that **we have sufficient evidence to conclude their performance is better than luck** using the rankings based on our decision threshold $\\alpha = 0.05$. However with points, which is arguably a better indicator of performance, we fail to reject. "
   ]
  }
 ],
 "metadata": {
  "kernelspec": {
   "display_name": "Python 3",
   "language": "python",
   "name": "python3"
  },
  "language_info": {
   "codemirror_mode": {
    "name": "ipython",
    "version": 3
   },
   "file_extension": ".py",
   "mimetype": "text/x-python",
   "name": "python",
   "nbconvert_exporter": "python",
   "pygments_lexer": "ipython3",
   "version": "3.7.5"
  }
 },
 "nbformat": 4,
 "nbformat_minor": 4
}
